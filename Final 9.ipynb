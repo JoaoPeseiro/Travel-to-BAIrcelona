{
 "cells": [
  {
   "cell_type": "code",
   "execution_count": null,
   "id": "920b9ba2",
   "metadata": {},
   "outputs": [],
   "source": [
    "from dotenv import load_dotenv\n",
    "import os\n",
    "import glob\n",
    "import pandas as pd\n",
    "import requests\n",
    "from bs4 import BeautifulSoup\n",
    "from sentence_transformers import SentenceTransformer\n",
    "from pinecone import Pinecone, ServerlessSpec\n",
    "from langchain.vectorstores import Pinecone as LC_Pinecone\n",
    "from langchain.chat_models import ChatOpenAI\n",
    "from langchain.chains import LLMChain, RetrievalQA\n",
    "from langchain.prompts import PromptTemplate, ChatPromptTemplate\n",
    "from langchain.embeddings import SentenceTransformerEmbeddings\n",
    "from langchain.retrievers import MultiQueryRetriever\n",
    "from ddgs import DDGS\n",
    "from langchain.agents import initialize_agent, Tool, AgentType\n",
    "from langsmith import Client\n",
    "from langchain.callbacks import LangChainTracer\n",
    "from langchain.schema import Document\n",
    "from langchain.memory import ConversationBufferMemory\n",
    "import streamlit as st\n",
    "import uuid\n",
    "import json\n",
    "\n",
    "load_dotenv()\n",
    "OPENAI_API_KEY = os.getenv(\"OPENAI_API_KEY\")\n",
    "PINECONE_API_KEY = os.getenv(\"PINECONE_API_KEY\")\n",
    "INDEX_NAME = \"barcelona-kids\"\n",
    "LANGSMITH_API_KEY = os.getenv(\"LANGSMITH_API_KEY\")\n",
    "\n",
    "CACHE_FILE = \"processed_cache.json\"\n",
    "client = Client(api_key=LANGSMITH_API_KEY)\n",
    "tracer = LangChainTracer(client=client, project_name=\"Barcelona-Kids\")\n",
    "\n",
    "myLlmAt0 = ChatOpenAI(\n",
    "    openai_api_key=OPENAI_API_KEY,\n",
    "    model=\"gpt-4o\", \n",
    "    temperature=0,\n",
    "    streaming=True,\n",
    "    callbacks=[tracer]  \n",
    ")\n",
    "\n"
   ]
  },
  {
   "cell_type": "code",
   "execution_count": null,
   "id": "02cc6a49",
   "metadata": {},
   "outputs": [],
   "source": [
    "def load_cache():\n",
    "    if os.path.exists(CACHE_FILE):\n",
    "        try:\n",
    "            with open(CACHE_FILE, \"r\", encoding=\"utf-8\") as f:\n",
    "                data = json.load(f)\n",
    "                if \"videos\" in data and \"sites\" in data:\n",
    "                    return data\n",
    "        except (json.JSONDecodeError, ValueError):\n",
    "            pass  \n",
    "    return {\"videos\": [], \"sites\": []}\n",
    "\n",
    "def save_cache(cache):\n",
    "    with open(CACHE_FILE, \"w\", encoding=\"utf-8\") as f:\n",
    "        json.dump(cache, f, ensure_ascii=False, indent=2)"
   ]
  },
  {
   "cell_type": "code",
   "execution_count": null,
   "id": "b145ff00",
   "metadata": {},
   "outputs": [],
   "source": [
    "def parse_vtt(file_path):\n",
    "    with open(file_path, 'r', encoding='utf-8') as f:\n",
    "        lines = f.readlines()\n",
    "    text_lines = []\n",
    "    for line in lines:\n",
    "        line = line.strip()\n",
    "        if line and not line[0].isdigit() and \"-->\" not in line:\n",
    "            text_lines.append(line)\n",
    "    return \" \".join(text_lines)"
   ]
  },
  {
   "cell_type": "code",
   "execution_count": null,
   "id": "2a0f8ee6",
   "metadata": {},
   "outputs": [],
   "source": [
    "def prepare_documents(vtt_folder, sites):\n",
    "    \"\"\"Lê VTT e sites, retorna dataframe sem reprocessar já processados\"\"\"\n",
    "    cache = load_cache()\n",
    "    \n",
    "    vtt_files = glob.glob(os.path.join(vtt_folder, \"*.vtt\"))\n",
    "    video_data = []\n",
    "    for file in vtt_files:\n",
    "        title = os.path.splitext(os.path.basename(file))[0]\n",
    "        if title in cache[\"videos\"]:\n",
    "            continue \n",
    "        content = parse_vtt(file)\n",
    "        video_data.append({\"title\": title, \"content\": content, \"source\": \"YouTube\"})\n",
    "        cache[\"videos\"].append(title)\n",
    "\n",
    "    df_videos = pd.DataFrame(video_data)\n",
    "    print(f\"{len(df_videos)} vídeos novos processados.\")\n",
    "\n",
    "    site_data = []\n",
    "    for url in sites:\n",
    "        if url in cache[\"sites\"]:\n",
    "            continue\n",
    "        r = requests.get(url)\n",
    "        soup = BeautifulSoup(r.text, \"html.parser\")\n",
    "        paragraphs = soup.find_all(\"p\")\n",
    "        content = \" \".join([p.get_text() for p in paragraphs])\n",
    "        title_tag = soup.find(\"title\")\n",
    "        title = title_tag.get_text() if title_tag else url\n",
    "        site_data.append({\"title\": title, \"content\": content, \"source\": url})\n",
    "        cache[\"sites\"].append(url)\n",
    "\n",
    "    df_sites = pd.DataFrame(site_data)\n",
    "    print(f\"{len(df_sites)} sites novos processados.\")\n",
    "\n",
    "  \n",
    "    df_all = pd.concat([df_videos, df_sites], ignore_index=True)\n",
    "\n",
    "    if df_all.empty:\n",
    "        df_all = pd.DataFrame(columns=[\"title\", \"content\", \"source\"])\n",
    "    else:\n",
    "        if \"content\" not in df_all.columns:\n",
    "            df_all[\"content\"] = \"\"\n",
    "        else:\n",
    "            df_all[\"content\"] = df_all[\"content\"].fillna(\"\")\n",
    "\n",
    "    save_cache(cache)\n",
    "\n",
    "    return df_all"
   ]
  },
  {
   "cell_type": "code",
   "execution_count": null,
   "id": "a82ff483",
   "metadata": {},
   "outputs": [],
   "source": [
    "def prepare_vectorstore(df_all, model_name=\"paraphrase-multilingual-MiniLM-L12-v2\"):\n",
    "    \"\"\"Cria embeddings e inicializa Pinecone e retrievers\"\"\"\n",
    "    embedder = SentenceTransformer(model_name)\n",
    "    embeddings = embedder.encode(df_all[\"content\"].tolist(), show_progress_bar=True, convert_to_numpy=True)\n",
    "    df_all[\"embedding\"] = list(embeddings)\n",
    "\n",
    "    pc = Pinecone(api_key=PINECONE_API_KEY)\n",
    "    if INDEX_NAME not in pc.list_indexes().names():\n",
    "        pc.create_index(\n",
    "            name=INDEX_NAME,\n",
    "            dimension=384,\n",
    "            metric=\"cosine\",\n",
    "            spec=ServerlessSpec(cloud=\"aws\", region=\"us-east-1\")\n",
    "        )\n",
    "    index = pc.Index(INDEX_NAME)\n",
    "    to_upsert = []\n",
    "    for i, row in df_all.iterrows():\n",
    "        vec_id = str(i)\n",
    "        embedding = row[\"embedding\"].tolist()\n",
    "        metadata = {\n",
    "            \"title\": row.get(\"title\", \"\"),\n",
    "            \"source\": row.get(\"source\", \"\"),\n",
    "            \"content\": row.get(\"content\", \"\")[:200]\n",
    "        }\n",
    "        to_upsert.append((vec_id, embedding, metadata))\n",
    "        \n",
    "    if len(to_upsert) == 0:\n",
    "        print(\"Nenhum vetor novo para upsert. Pulando envio para Pinecone.\")\n",
    "    else:\n",
    "        index.upsert(vectors=to_upsert, namespace=\"default\")\n",
    "        \n",
    "    print(f\"{len(to_upsert)} embeddings inseridos no Pinecone!\")\n",
    "\n",
    "    llm_embeddings = SentenceTransformerEmbeddings(model_name=model_name)\n",
    "    vectorstore = LC_Pinecone.from_existing_index(\n",
    "        index_name=INDEX_NAME,\n",
    "        embedding=llm_embeddings\n",
    "    )\n",
    "    retriever = vectorstore.as_retriever(search_kwargs={\"k\": 5})\n",
    "    multiquery_retriever = MultiQueryRetriever.from_llm(\n",
    "        retriever=retriever,\n",
    "        llm=myLlmAt0\n",
    "    )\n",
    "    qa_chain = RetrievalQA.from_chain_type(\n",
    "        llm=myLlmAt0,\n",
    "        retriever=retriever,\n",
    "        chain_type=\"stuff\",\n",
    "        chain_type_kwargs={\"prompt\": qa_prompt},\n",
    "        return_source_documents=False\n",
    "    )\n",
    "    return vectorstore, llm_embeddings, retriever, multiquery_retriever, qa_chain"
   ]
  },
  {
   "cell_type": "code",
   "execution_count": null,
   "id": "7074cced",
   "metadata": {},
   "outputs": [],
   "source": [
    "multiquery_prompt_template = \"\"\"\n",
    "Tu és um especialista em viagens com crianças.\n",
    "Recebeste esta pergunta do utilizador: \"{pergunta}\"\n",
    "\n",
    "Divide-a em sub-queries úteis e específicas que ajudem a procurar respostas nos documentos.\n",
    "Cria apenas as sub-queries relevantes para a pergunta, usa diferentes termos para maximizar as chances de encontrar uma resposta relevante, não acrescentes categorias extra.\n",
    "\n",
    "Retorna cada sub-query numerada e clara.\n",
    "\"\"\"\n",
    "multiquery_prompt = PromptTemplate(template=multiquery_prompt_template, input_variables=[\"pergunta\"])\n",
    "multiquery_chain = LLMChain(\n",
    "    llm=myLlmAt0,\n",
    "    prompt=multiquery_prompt\n",
    ")\n",
    "\n",
    "qa_prompt_template = \"\"\"\n",
    "Tu és um assistente especializado em viagens para famílias com crianças.\n",
    "Responde apenas à pergunta feita, usando exclusivamente a informação dos documentos abaixo.\n",
    "Não cries listas fixas nem acrescentes tópicos extra se não forem pedidos.\n",
    "Se não encontrares a resposta, diz claramente: \"Não encontrei essa informação nos documentos.\"\n",
    "\n",
    "Documentos recuperados:\n",
    "{context}\n",
    "\n",
    "Pergunta: {question}\n",
    "\n",
    "Resposta:\n",
    "\"\"\"\n",
    "qa_prompt = PromptTemplate(input_variables=[\"context\", \"question\"], template=qa_prompt_template)\n",
    "\n",
    "agent_prompt = PromptTemplate(\n",
    "    input_variables=[\"question\", \"agent_scratchpad\"],\n",
    "    template=\"\"\"\n",
    "És um agente de viagens especializado em famílias com crianças.\n",
    "\n",
    "Tens acesso a ferramentas que te ajudam a responder:\n",
    "- Base de dados local (Pinecone retriever)\n",
    "- DuckDuckGo Search (DDGS) para pesquisar na web\n",
    "\n",
    "A tua tarefa é:\n",
    "1. Interpretar as perguntas do usuario filtrando apenas as informaçoes necessarias.\n",
    "2. Sugerir atividades adequadas para crianças dessa idade na cidade indicada.\n",
    "3. Indicar o que deve ser preparado/levado para a viagem.\n",
    "4. Indicar o que pode ser alugado na cidade e onde.\n",
    "5. Listar restaurantes ou locais adaptados a famílias.\n",
    "6. Reforça items de primeira necessidade que sao comuns (por exemplo, levar protetor solar no verao). \n",
    "\n",
    "Regras importantes:\n",
    "- Usa sempre as ferramentas para obter informação.\n",
    "- Resume e organiza os resultados de forma clara e prática.\n",
    "- Se não encontrares resultados relevantes, diz claramente que não há informação na base de dados. Complementa a informação com senso comum. \n",
    "- Usa perguntas para confirmar que o usuário tem os items necessarios e continue o planeamento da viagem. \n",
    "- usa optimizações especificas para o motor de pequisa duckduck go (escreve perguntas em inglês, usa palavras chave). Lê a resposta com atencao e adapta o teu próximo passo.\n",
    "- Verifica sempre a tua propria base de dados antes de fazer uma pesquisa\n",
    "- Responde semore em português\n",
    "\n",
    "follow the format                                                \n",
    "\n",
    "Question:input\n",
    "Thought: I should think about this step by step\n",
    "Action: [action to take]\n",
    "Action Input: [input to the action] Observation: [result of the action] ... (repeat Thought/Action/Action Input/Observation as needed) \n",
    "Final Answer: [final answer to the question] \n",
    "\n",
    "begin!                                              \n",
    "\n",
    "Pergunta do utilizador: {question}\n",
    "{agent_scratchpad}                                            \n",
    "\"\"\"\n",
    ")"
   ]
  },
  {
   "cell_type": "code",
   "execution_count": null,
   "id": "ff009937",
   "metadata": {},
   "outputs": [],
   "source": [
    "def run_multiquery_prompt(pergunta, qa_chain, retriever):\n",
    "    subqueries_text = multiquery_chain.run({\"pergunta\": pergunta})\n",
    "    subqueries = [line.split(\":\",1)[1].strip() for line in subqueries_text.split(\"\\n\") if \":\" in line]\n",
    "    respostas = []\n",
    "    encontrou_resposta = False\n",
    "    for sq in subqueries:\n",
    "        docs = retriever.get_relevant_documents(sq)\n",
    "        context = \"\\n\".join([d.page_content for d in docs])\n",
    "        resposta = qa_chain.run({\"context\": context, \"question\": sq})\n",
    "        respostas.append(f\"➡️ Pergunta: {sq}\\n{resposta}\")\n",
    "        if \"Não encontrei\" not in resposta:\n",
    "            encontrou_resposta = True\n",
    "    return \"\\n\\n\".join(respostas), encontrou_resposta"
   ]
  },
  {
   "cell_type": "code",
   "execution_count": null,
   "id": "094e8636",
   "metadata": {},
   "outputs": [],
   "source": [
    "def search_ddgs_categorized(query: str, categoria: str, max_results: int = 10):\n",
    "    ddgs = DDGS()\n",
    "    query_modificada = f\"{query} Barcelona Espanha\"\n",
    "    resultados = list(ddgs.text(query_modificada, max_results=max_results))\n",
    "    categoria_keywords = {\n",
    "        \"atividades\": [\n",
    "            \"parque\", \"atividade\", \"atração\", \"kids\", \"evento\", \"diversão\", \"coisas para fazer\",\n",
    "            \"museum\", \"playground\", \"jogo\", \"show\", \"teatro\", \"espetáculo\", \"cultura\", \"familiar\",\n",
    "            \"gratuito\", \"passeio\", \"caminhada\", \"outdoor\", \"interativo\"\n",
    "        ],\n",
    "        \"restaurantes\": [\n",
    "            \"restaurante\", \"menu infantil\", \"comida\", \"food\", \"dining\", \"eat\", \"cafeteria\",\n",
    "            \"family friendly\", \"criança\", \"kids menu\", \"play area\", \"buffet\", \"temático\", \"brincar\",\n",
    "            \"parque infantil\", \"terraço\"\n",
    "        ],\n",
    "        \"o_que_levar\": [\n",
    "            \"lista\", \"o que levar\", \"essenciais\", \"viagem\", \"criança\", \"bagagem\", \"checklist\",\n",
    "            \"roupa\", \"protetor solar\", \"chapéu\", \"sapatos confortáveis\", \"lanches\", \"água\",\n",
    "            \"documentos\", \"brinquedos\", \"fraldas\", \"medicamentos\", \"berço portátil\", \"carrinho\"\n",
    "        ],\n",
    "        \"o_que_alugar\": [\n",
    "            \"aluguer\", \"rent\", \"rental\", \"equipamento\", \"carrinho de bebé\", \"cadeira auto\", \"gear\",\n",
    "            \"bicicleta\", \"scooter\", \"brinquedos\", \"cadeira de praia\", \"berço\", \"carro\", \"equipamento infantil\"\n",
    "        ]\n",
    "    }\n",
    "    keywords = categoria_keywords.get(categoria, [])\n",
    "    resultados_filtrados = [\n",
    "        r for r in resultados\n",
    "        if (\"barcelona\" in r[\"title\"].lower() or \"barcelona\" in r[\"body\"].lower())\n",
    "        and any(k.lower() in (r[\"title\"] + r[\"body\"]).lower() for k in keywords)\n",
    "    ]\n",
    "    return resultados_filtrados"
   ]
  },
  {
   "cell_type": "code",
   "execution_count": null,
   "id": "82842c82",
   "metadata": {},
   "outputs": [],
   "source": [
    "def summarize_ddgs_results(results):\n",
    "    if not results:\n",
    "        return \"⚠️ Nenhum resultado relevante encontrado.\"\n",
    "    textos = results\n",
    "    prompt_template = ChatPromptTemplate.from_template(\"\"\"\n",
    "    Com base nestes resultados web, dá uma resposta curta e estruturada para o utilizador,\n",
    "    focando apenas em Barcelona, Espanha. Não acrescentes tópicos extra:\n",
    "\n",
    "    {textos}\n",
    "    \"\"\")\n",
    "    llm_chain = LLMChain(\n",
    "        llm=myLlmAt0,\n",
    "        prompt=prompt_template\n",
    "    )\n",
    "    return llm_chain.invoke({\"textos\": textos})"
   ]
  },
  {
   "cell_type": "code",
   "execution_count": null,
   "id": "f6181617",
   "metadata": {},
   "outputs": [],
   "source": [
    "def add_ddgs_results_to_vectorstore(results, vectorstore):\n",
    "    vectorstore.add_texts(results)\n",
    "    print(f\"✅ search results adicionados ao vectorstore a partir do DuckDuckGo.\")\n",
    "\n",
    "def duckduckgo_tool(query: str, vectorstore):\n",
    "    with DDGS() as ddgs:\n",
    "        results = \"\"\n",
    "        for result in ddgs.text(query, max_results=30, backend=\"google\"):\n",
    "            results = f'{results}, {result[\"title\"]}, {result[\"body\"]}'\n",
    "    if results:\n",
    "        add_ddgs_results_to_vectorstore(results, vectorstore)\n",
    "        return summarize_ddgs_results(results)\n",
    "    return \"⚠️ Nenhum resultado relevante encontrado.\""
   ]
  },
  {
   "cell_type": "code",
   "execution_count": null,
   "id": "60de57ff",
   "metadata": {},
   "outputs": [],
   "source": [
    "def multiquery_qa_tool(query: str, multiquery_retriever):\n",
    "    docs = multiquery_retriever.invoke(query)\n",
    "    if not docs:\n",
    "        return \"Não encontrei informação relevante nos documentos.\"\n",
    "    context = \"\\n\\n\".join([d.page_content for d in docs])\n",
    "    llm = myLlmAt0\n",
    "    chain = LLMChain(llm=llm, prompt=qa_prompt)\n",
    "    return chain.invoke({\"context\": context, \"question\": query})[\"text\"]"
   ]
  },
  {
   "cell_type": "code",
   "execution_count": null,
   "id": "0fef145d",
   "metadata": {},
   "outputs": [],
   "source": [
    "vtt_folder = r\"C:\\Users\\megap\\Desktop\\Final Project\\Scraps\"\n",
    "sites = [\n",
    "    \"https://www.tripadvisor.com/Restaurants-g187497-zfp5-Barcelona_Catalonia.html\",\n",
    "    \"https://annetravelfoodie.com/barcelona-with-kids/\",\n",
    "    \"https://bedfordbalabusta.com/2023/02/23/barcelona-with-two-tweens-and-a-toddler/\",\n",
    "    \"https://www.thefork.co.uk/restaurants/barcelona-c41710/kid-friendly-t1460\"\n",
    "]\n",
    "\n",
    "df_all = prepare_documents(vtt_folder, sites)\n",
    "vectorstore, llm_embeddings, retriever, multiquery_retriever, qa_chain = prepare_vectorstore(df_all)"
   ]
  },
  {
   "cell_type": "code",
   "execution_count": null,
   "id": "cf3e6926",
   "metadata": {},
   "outputs": [
    {
     "name": "stdout",
     "output_type": "stream",
     "text": [
      "✅ search results adicionados ao vectorstore a partir do DuckDuckGo.\n"
     ]
    }
   ],
   "source": [
    "tools = [\n",
    "    Tool(\n",
    "        name=\"Local RAG QA\",\n",
    "        func=lambda q: qa_chain.invoke({\"query\": q})[\"result\"],\n",
    "        description=\"Responde com base na base local (YouTube + sites + conteúdos web já aprendidos).\"\n",
    "    ),\n",
    "    Tool(\n",
    "        name=\"MultiQuery RAG QA\",\n",
    "        func=lambda q: multiquery_qa_tool(q, multiquery_retriever),\n",
    "        description=\"Expande a pergunta em várias queries e responde usando os documentos recuperados.\"\n",
    "    ),\n",
    "    Tool(\n",
    "        name=\"DuckDuckGo + Learn\",\n",
    "        func=lambda q: duckduckgo_tool(q, vectorstore),\n",
    "        description=\"Pesquisa na web e incorpora conteúdos relevantes ao vectorstore antes de responder.\"\n",
    "    )\n",
    "]\n",
    "\n",
    "memory = ConversationBufferMemory(memory_key=\"chat_history\", return_messages=True)\n",
    "\n",
    "agent = initialize_agent(\n",
    "    tools,\n",
    "    myLlmAt0,\n",
    "    agent=AgentType.ZERO_SHOT_REACT_DESCRIPTION,\n",
    "    handle_parsing_errors=True,\n",
    "    verbose=True,\n",
    "    max_iterations=8,\n",
    "    callbacks=[tracer],\n",
    "    memory=memory,\n",
    "    agent_kwargs={\"prompt\": agent_prompt}\n",
    ")"
   ]
  },
  {
   "cell_type": "code",
   "execution_count": null,
   "id": "05525f16",
   "metadata": {},
   "outputs": [
    {
     "name": "stdout",
     "output_type": "stream",
     "text": [
      "✅ search results adicionados ao vectorstore a partir do DuckDuckGo.\n"
     ]
    },
    {
     "name": "stderr",
     "output_type": "stream",
     "text": [
      "c:\\Users\\megap\\anaconda3\\Lib\\site-packages\\pydantic\\main.py:1087: PydanticDeprecatedSince20: The `dict` method is deprecated; use `model_dump` instead. Deprecated in Pydantic V2.0 to be removed in V3.0. See Pydantic V2 Migration Guide at https://errors.pydantic.dev/2.8/migration/\n",
      "  warnings.warn('The `dict` method is deprecated; use `model_dump` instead.', category=PydanticDeprecatedSince20)\n"
     ]
    },
    {
     "data": {
      "text/plain": [
       "{'textos': \", Climate of Barcelona, Winter. Winters in Barcelona are mild . January and February are the coldest months, with average temperatures around 15 °C (59 °F) during the day and 9 °C (48 ..., Typical Climate and Weather in Barcelona, Winter. From November to February the temperatures are cooler, averaging around 12°C or 53F . It doesn't tend to rain a lot here in Winter so even though it may ..., Barcelona Climate, Weather By Month, Average ..., In Barcelona, the summers are short, warm, humid, and mostly clear and the winters are long, cold, and partly cloudy ., Summary of the Barcelona Weather in December, Summary of temperatures and weather in December: ; Average temperature: 14° C or 57.2 F ; Maximum temperature: 16° C or 60.8 F ; Minimum temperature: 8° C or 46.4 ..., Weather in Spain, While that might seem cold, temperatures can still reach a pleasant 14°C in winter , making it a perfect destination for every season. Month. Average high., Barcelona in Winter 2025 | Weather, Things to do, Events, Barcelona in winter is mildly pleasant and lasts from December to March . In the daytime, the temperature hovers at about 12°C, with lows of just 5°C, and the ..., Barcelona climate: weather by month, temperature, rain, Barcelona Winter, from December to February, is mild , although different weather situations can occur. When the Azores High moves over Spain, there can be ..., how is the winter in Barcelona ? : r/GoingToSpain, It rarely goes under 5°C . And if it's a sunny day, you can be outside pretty comfortably. Now inside as others said, it depends on your insulations and your ...\",\n",
       " 'text': 'Os invernos em Barcelona, Espanha, são amenos, durando de dezembro a março. Janeiro e fevereiro são os meses mais frios, com temperaturas médias em torno de 15°C durante o dia e 9°C à noite. No entanto, as temperaturas podem chegar a um agradável 14°C no inverno. Raramente chove muito durante o inverno e as temperaturas raramente caem abaixo de 5°C. Mesmo que possam ocorrer diferentes situações climáticas, o inverno em Barcelona é geralmente agradável.'}"
      ]
     },
     "execution_count": 207,
     "metadata": {},
     "output_type": "execute_result"
    }
   ],
   "source": [
    "st.set_page_config(page_title=\"Travel Kids Bot\", page_icon=\"🧳\")\n",
    "st.title(\"🧒👶 Travel Assistant for Kids\")\n",
    "\n",
    "\n",
    "cidade = st.text_input(\"Cidade:\", \"Barcelona\")\n",
    "idade = st.number_input(\"Idade da criança:\", min_value=0, max_value=18, value=5)\n",
    "epoca = st.selectbox(\"Época do ano:\", [\"Primavera\", \"Verão\", \"Outono\", \"Inverno\"])\n",
    "\n",
    "if st.button(\"Gerar recomendações\"):\n",
    "    pergunta_usuario = f\"Planeamento de viagem para {cidade}, criança de {idade} anos no {epoca}\"\n",
    "    resposta = agent.invoke({\"input\": pergunta_usuario})[\"output\"]\n",
    "\n",
    "    # Show assistant response\n",
    "    with st.chat_message(\"assistant\"):\n",
    "        with st.spinner(\"A pensar...\"):\n",
    "            st.markdown(resposta)\n",
    "\n",
    "    # Save assistant response\n",
    "    st.session_state.messages.append({\"role\": \"assistant\", \"content\": resposta})\n",
    "\n",
    "# Store conversation in Streamlit session state\n",
    "if \"messages\" not in st.session_state:\n",
    "    st.session_state.messages = []\n",
    "\n",
    "# Display previous messages\n",
    "for msg in st.session_state.messages:\n",
    "    with st.chat_message(msg[\"role\"]):\n",
    "        st.markdown(msg[\"content\"])\n",
    "\n",
    "# Input box\n",
    "if prompt := st.chat_input(\"Escreva a sua mensagem...\"):\n",
    "    # Save user message\n",
    "    st.session_state.messages.append({\"role\": \"user\", \"content\": prompt})\n",
    "    with st.chat_message(\"user\"):\n",
    "        st.markdown(prompt)\n",
    "\n",
    "    # Generate GPT response\n",
    "    with st.chat_message(\"assistant\"):\n",
    "        with st.spinner(\"A pensar...\"):\n",
    "            response = myLlmAt0.invoke(st.session_state.messages)\n",
    "            reply = response.content\n",
    "            st.markdown(reply)\n",
    "\n",
    "    # Save assistant message\n",
    "    st.session_state.messages.append({\"role\": \"assistant\", \"content\": reply})"
   ]
  },
  {
   "cell_type": "code",
   "execution_count": 221,
   "id": "24f085a8",
   "metadata": {},
   "outputs": [
    {
     "name": "stdout",
     "output_type": "stream",
     "text": [
      "================================================================================\n",
      "Pergunta: Quais são as melhores atividades gratuitas em Barcelona para crianças de 5 anos no inverno?\n",
      "\n",
      "\n",
      "\n",
      "\u001b[1m> Entering new AgentExecutor chain...\u001b[0m\n"
     ]
    },
    {
     "name": "stderr",
     "output_type": "stream",
     "text": [
      "c:\\Users\\megap\\anaconda3\\Lib\\site-packages\\pydantic\\main.py:1087: PydanticDeprecatedSince20: The `dict` method is deprecated; use `model_dump` instead. Deprecated in Pydantic V2.0 to be removed in V3.0. See Pydantic V2 Migration Guide at https://errors.pydantic.dev/2.8/migration/\n",
      "  warnings.warn('The `dict` method is deprecated; use `model_dump` instead.', category=PydanticDeprecatedSince20)\n"
     ]
    },
    {
     "name": "stdout",
     "output_type": "stream",
     "text": [
      "\u001b[32;1m\u001b[1;3mTo answer this question, I need to find information about free activities suitable for 5-year-old children in Barcelona during the winter. I will start by searching for relevant information using the available tools.\n",
      "\n",
      "Action: DuckDuckGo + Learn\n",
      "Action Input: Free activities for 5-year-old children in Barcelona during winter\u001b[0m✅ search results adicionados ao vectorstore a partir do DuckDuckGo.\n"
     ]
    },
    {
     "name": "stderr",
     "output_type": "stream",
     "text": [
      "c:\\Users\\megap\\anaconda3\\Lib\\site-packages\\pydantic\\main.py:1087: PydanticDeprecatedSince20: The `dict` method is deprecated; use `model_dump` instead. Deprecated in Pydantic V2.0 to be removed in V3.0. See Pydantic V2 Migration Guide at https://errors.pydantic.dev/2.8/migration/\n",
      "  warnings.warn('The `dict` method is deprecated; use `model_dump` instead.', category=PydanticDeprecatedSince20)\n"
     ]
    },
    {
     "name": "stdout",
     "output_type": "stream",
     "text": [
      "\n",
      "Observation: \u001b[38;5;200m\u001b[1;3m{'textos': \", Barcelona with KIDS: The COMPLETE GUIDE, Top 40 Things To Do With Kids In Barcelona . Follow The Recommendations Of A Local Mum And Enjoy These Activities For The Whole Family. Updated 2021., Barcelona with kids: what to visit? - museos, Children under 5 years have free admission. Big Fun Museum (another Location): ... 15 euros for children between 6 and 12 years free entry for children under 6 ..., Barcelona With Kids: Things to Do with Children (2025), The Barcelona Zoo Some free activities for kids included in ticket prices include penguin feedings, elephant training sessions, dolphin shows, and the “farmer' ..., Barcelona with Kids: Best and Worst of Catalonia's Capital, 2 Jun 2025 — Barcelona Basics · La Rambla · Chocolate Museum · Parc de la Ciutadella · Barcelona Beaches · Picasso Museum · La Sagrada Familia Basilica · Park Güell ..., Barcelona with Kids: Top Things To Do with Children of All ..., 13 Mar 2025 — 1. Visit the Barcelona Aquarium · 2. See the Sagrada Familia · 3. Explore Park Güell · 4. Have a sweet time at the Chocolate Museum · 5. Discover ..., Barcelona with Kids. And a Free Printable!, 5 Jun 2019 — Jenia came up with a printable Scavenger Hunt for Sagrada Familia which really helped our 5 year-old son have a good time. He focused on details ..., 31 Things to Do in Barcelona With Kids - Bridges & Balloons, 11 Jul 2025 — Complete guide to the best things to do in Barcelona with kids, from beaches to waterparks . Create your perfect Barcelona family holiday., Barcelona with Kids - 28 Cool Attractions Updated for 2025, Everyone will find an interesting activity and enjoy everything the city has to offer. Beach, parks, museums, diverse food – or just wandering the streets., 15 of the best free things to do in Barcelona, 24 Jul 2025 — 1. Soak up Modernista architecture · 2. Stroll through enchanting barris · 3. Shop in neighborhood markets · 4. Study up on the Universitat de ..., Hi everyone! My family (including two kids, ages 5 ..., Afternoon: Visit Barcelona Aquarium . Day 5: Zoo Day (Dec 26) • Morning to afternoon: Visit Barcelona Zoo. Evening: Stop by Museu de la Xocolata.\", 'text': 'Barcelona, Espanha, é uma cidade amigável para crianças com muitas atividades para toda a família. Algumas das principais atrações incluem o Aquário de Barcelona, a Sagrada Família, o Parque Güell e o Museu do Chocolate. O Zoológico de Barcelona oferece atividades gratuitas para crianças incluídas no preço do bilhete, como alimentação de pinguins, sessões de treino de elefantes e shows de golfinhos. As crianças com menos de 5 anos têm entrada gratuita em muitos museus. Além disso, a cidade tem belas praias, parques e uma variedade de alimentos para desfrutar. Para uma experiência mais interativa, há uma caça ao tesouro imprimível para a Sagrada Família que pode ajudar as crianças a se concentrarem nos detalhes.'}\u001b[0m\n",
      "Thought:"
     ]
    },
    {
     "name": "stderr",
     "output_type": "stream",
     "text": [
      "c:\\Users\\megap\\anaconda3\\Lib\\site-packages\\pydantic\\main.py:1087: PydanticDeprecatedSince20: The `dict` method is deprecated; use `model_dump` instead. Deprecated in Pydantic V2.0 to be removed in V3.0. See Pydantic V2 Migration Guide at https://errors.pydantic.dev/2.8/migration/\n",
      "  warnings.warn('The `dict` method is deprecated; use `model_dump` instead.', category=PydanticDeprecatedSince20)\n"
     ]
    },
    {
     "name": "stdout",
     "output_type": "stream",
     "text": [
      "\u001b[32;1m\u001b[1;3mThe search provided useful information about free activities for children in Barcelona during the winter. Here are some of the best options:\n",
      "\n",
      "1. **Parc de la Ciutadella**: A beautiful park where children can play and explore. It's a great place for a picnic and to enjoy the outdoors.\n",
      "\n",
      "2. **Beaches**: Even in winter, Barcelona's beaches can be a fun place for children to play and explore.\n",
      "\n",
      "3. **Museums**: Many museums in Barcelona offer free entry for children under 5 years old. This includes places like the Chocolate Museum, which can be both educational and fun.\n",
      "\n",
      "4. **Park Güell**: While there is a fee for the monumental zone, the surrounding areas of Park Güell are free to explore and offer stunning views and interesting architecture.\n",
      "\n",
      "5. **La Rambla**: A walk down this famous street can be entertaining with its street performers and vibrant atmosphere.\n",
      "\n",
      "6. **Sagrada Familia**: While entry to the basilica requires a ticket, the exterior is impressive and can be enjoyed for free. There is also a printable scavenger hunt available to make the visit more engaging for children.\n",
      "\n",
      "These activities provide a mix of cultural, educational, and outdoor experiences that are suitable for young children and are free of charge.\n",
      "\n",
      "Final Answer: The best free activities for 5-year-old children in Barcelona during winter include visiting Parc de la Ciutadella, exploring the beaches, enjoying museums with free entry for young children, wandering around Park Güell, strolling down La Rambla, and viewing the exterior of the Sagrada Familia.\u001b[0m\n",
      "\n",
      "\u001b[1m> Finished chain.\u001b[0m\n",
      "Resposta:\n",
      "The best free activities for 5-year-old children in Barcelona during winter include visiting Parc de la Ciutadella, exploring the beaches, enjoying museums with free entry for young children, wandering around Park Güell, strolling down La Rambla, and viewing the exterior of the Sagrada Familia.\n",
      "\n",
      "================================================================================\n",
      "Pergunta: Sugere restaurantes em Barcelona que tenham menu infantil e espaço para brincar.\n",
      "\n",
      "\n",
      "\n",
      "\u001b[1m> Entering new AgentExecutor chain...\u001b[0m\n"
     ]
    },
    {
     "name": "stderr",
     "output_type": "stream",
     "text": [
      "c:\\Users\\megap\\anaconda3\\Lib\\site-packages\\pydantic\\main.py:1087: PydanticDeprecatedSince20: The `dict` method is deprecated; use `model_dump` instead. Deprecated in Pydantic V2.0 to be removed in V3.0. See Pydantic V2 Migration Guide at https://errors.pydantic.dev/2.8/migration/\n",
      "  warnings.warn('The `dict` method is deprecated; use `model_dump` instead.', category=PydanticDeprecatedSince20)\n"
     ]
    },
    {
     "name": "stdout",
     "output_type": "stream",
     "text": [
      "\u001b[32;1m\u001b[1;3mPara responder a esta pergunta, preciso encontrar informações sobre restaurantes em Barcelona que ofereçam um menu infantil e tenham espaço para brincar. Vou começar verificando a base de dados local para ver se há informações relevantes.\n",
      "\n",
      "Action: Local RAG QA\n",
      "Action Input: Restaurantes em Barcelona com menu infantil e espaço para brincar\u001b[0m"
     ]
    },
    {
     "name": "stderr",
     "output_type": "stream",
     "text": [
      "c:\\Users\\megap\\anaconda3\\Lib\\site-packages\\pydantic\\main.py:1087: PydanticDeprecatedSince20: The `dict` method is deprecated; use `model_dump` instead. Deprecated in Pydantic V2.0 to be removed in V3.0. See Pydantic V2 Migration Guide at https://errors.pydantic.dev/2.8/migration/\n",
      "  warnings.warn('The `dict` method is deprecated; use `model_dump` instead.', category=PydanticDeprecatedSince20)\n"
     ]
    },
    {
     "name": "stdout",
     "output_type": "stream",
     "text": [
      "\n",
      "Observation: \u001b[36;1m\u001b[1;3mNão encontrei essa informação nos documentos.\u001b[0m\n",
      "Thought:"
     ]
    },
    {
     "name": "stderr",
     "output_type": "stream",
     "text": [
      "c:\\Users\\megap\\anaconda3\\Lib\\site-packages\\pydantic\\main.py:1087: PydanticDeprecatedSince20: The `dict` method is deprecated; use `model_dump` instead. Deprecated in Pydantic V2.0 to be removed in V3.0. See Pydantic V2 Migration Guide at https://errors.pydantic.dev/2.8/migration/\n",
      "  warnings.warn('The `dict` method is deprecated; use `model_dump` instead.', category=PydanticDeprecatedSince20)\n"
     ]
    },
    {
     "name": "stdout",
     "output_type": "stream",
     "text": [
      "\u001b[32;1m\u001b[1;3mPara encontrar informações atualizadas sobre restaurantes em Barcelona que ofereçam menu infantil e espaço para brincar, a melhor abordagem é realizar uma pesquisa na web. Isso permitirá acessar as informações mais recentes e específicas sobre as opções disponíveis.\n",
      "\n",
      "Action: DuckDuckGo + Learn\n",
      "Action Input: Restaurantes em Barcelona com menu infantil e espaço para brincar\u001b[0m✅ search results adicionados ao vectorstore a partir do DuckDuckGo.\n"
     ]
    },
    {
     "name": "stderr",
     "output_type": "stream",
     "text": [
      "c:\\Users\\megap\\anaconda3\\Lib\\site-packages\\pydantic\\main.py:1087: PydanticDeprecatedSince20: The `dict` method is deprecated; use `model_dump` instead. Deprecated in Pydantic V2.0 to be removed in V3.0. See Pydantic V2 Migration Guide at https://errors.pydantic.dev/2.8/migration/\n",
      "  warnings.warn('The `dict` method is deprecated; use `model_dump` instead.', category=PydanticDeprecatedSince20)\n"
     ]
    },
    {
     "name": "stdout",
     "output_type": "stream",
     "text": [
      "\n",
      "Observation: \u001b[38;5;200m\u001b[1;3m{'textos': \", Plaza Urquinaona 3-Bedroom Suite - Barcelona, Em Eixample, este apartamento fica a 10 minutos a pé de Palau de la Musica Catalana, Plaça de Catalunya e La Rambla. La Sagrada Família e Catedral de ..., Nelson Marques (@nelsonbmarques), BOOKS • FOOD • PR Chefs Sem Reservas ✍ Cronista 🍽️ Curador: Under the Stars ⭐️ @ladiesnight.fest ⭐️ Eclipse Dinner Series COMPRE O NOVO LIVRO., Things to do in Aveiro with Kids. - #portugalwithkids, ... infantil , campos de desporto e até uma área de merendas com churrasqueiras. Ideal para refrescar, brincar e aproveitar o verão em família., Mas Salagros EcoResort & SPA - Catalonia - o Guia MICHELIN, Mais informações sobre Mas Salagros EcoResort & SPA em Catalonia, um hotel boutique seleccionado pelos nossos especialistas, uma Experiência Guia MICHELIN., St. Regis Maldives Vommuli Resort | Hotel de luxo em ..., O ALBA, restaurante de praia nas Maldivas que oferece pratos internacionais, incluindo sabores asiáticos, mediterrâneos e ocidentais, espera por você. Delicie- ..., The 44 best family restaurants in Braganca, We've collected the most-often-mentioned 44 places from other articles, including favorites like Restaurante Solar Bragançano , O Abel, and Tasca do Zé Tuga.\", 'text': 'O Plaza Urquinaona 3-Bedroom Suite é um apartamento localizado em Eixample, Barcelona. Fica a apenas 10 minutos a pé de várias atrações turísticas, incluindo o Palau de la Musica Catalana, Plaça de Catalunya e La Rambla. Além disso, a Sagrada Família e a Catedral de Barcelona também estão nas proximidades. Outra opção de alojamento em Barcelona é o Mas Salagros EcoResort & SPA, um hotel boutique em Catalonia selecionado pelos especialistas do Guia MICHELIN.'}\u001b[0m\n",
      "Thought:"
     ]
    },
    {
     "name": "stderr",
     "output_type": "stream",
     "text": [
      "c:\\Users\\megap\\anaconda3\\Lib\\site-packages\\pydantic\\main.py:1087: PydanticDeprecatedSince20: The `dict` method is deprecated; use `model_dump` instead. Deprecated in Pydantic V2.0 to be removed in V3.0. See Pydantic V2 Migration Guide at https://errors.pydantic.dev/2.8/migration/\n",
      "  warnings.warn('The `dict` method is deprecated; use `model_dump` instead.', category=PydanticDeprecatedSince20)\n"
     ]
    },
    {
     "name": "stdout",
     "output_type": "stream",
     "text": [
      "\u001b[32;1m\u001b[1;3mA pesquisa na web não retornou informações específicas sobre restaurantes em Barcelona com menu infantil e espaço para brincar. Vou tentar expandir a consulta para obter resultados mais relevantes.\n",
      "\n",
      "Action: MultiQuery RAG QA\n",
      "Action Input: Restaurantes em Barcelona com menu infantil e espaço para brincar\u001b[0m"
     ]
    },
    {
     "name": "stderr",
     "output_type": "stream",
     "text": [
      "c:\\Users\\megap\\anaconda3\\Lib\\site-packages\\pydantic\\main.py:1087: PydanticDeprecatedSince20: The `dict` method is deprecated; use `model_dump` instead. Deprecated in Pydantic V2.0 to be removed in V3.0. See Pydantic V2 Migration Guide at https://errors.pydantic.dev/2.8/migration/\n",
      "  warnings.warn('The `dict` method is deprecated; use `model_dump` instead.', category=PydanticDeprecatedSince20)\n",
      "c:\\Users\\megap\\anaconda3\\Lib\\site-packages\\pydantic\\main.py:1087: PydanticDeprecatedSince20: The `dict` method is deprecated; use `model_dump` instead. Deprecated in Pydantic V2.0 to be removed in V3.0. See Pydantic V2 Migration Guide at https://errors.pydantic.dev/2.8/migration/\n",
      "  warnings.warn('The `dict` method is deprecated; use `model_dump` instead.', category=PydanticDeprecatedSince20)\n"
     ]
    },
    {
     "name": "stdout",
     "output_type": "stream",
     "text": [
      "\n",
      "Observation: \u001b[33;1m\u001b[1;3mCan Farell é um restaurante em Barcelona que oferece um menu infantil e dispõe de um espaço para brincar. Outro restaurante com zona infantil é Suarna, que também pode ser uma opção, embora não tenha sido mencionado especificamente se oferece um menu infantil.\u001b[0m\n",
      "Thought:"
     ]
    },
    {
     "name": "stderr",
     "output_type": "stream",
     "text": [
      "c:\\Users\\megap\\anaconda3\\Lib\\site-packages\\pydantic\\main.py:1087: PydanticDeprecatedSince20: The `dict` method is deprecated; use `model_dump` instead. Deprecated in Pydantic V2.0 to be removed in V3.0. See Pydantic V2 Migration Guide at https://errors.pydantic.dev/2.8/migration/\n",
      "  warnings.warn('The `dict` method is deprecated; use `model_dump` instead.', category=PydanticDeprecatedSince20)\n"
     ]
    },
    {
     "name": "stdout",
     "output_type": "stream",
     "text": [
      "\u001b[32;1m\u001b[1;3mAgora tenho informações sobre restaurantes em Barcelona que oferecem menu infantil e espaço para brincar. \n",
      "\n",
      "Final Answer: Em Barcelona, o restaurante Can Farell oferece um menu infantil e dispõe de um espaço para brincar. Outra opção é o restaurante Suarna, que possui uma zona infantil, embora não tenha sido mencionado especificamente se oferece um menu infantil.\u001b[0m\n",
      "\n",
      "\u001b[1m> Finished chain.\u001b[0m\n",
      "Resposta:\n",
      "Em Barcelona, o restaurante Can Farell oferece um menu infantil e dispõe de um espaço para brincar. Outra opção é o restaurante Suarna, que possui uma zona infantil, embora não tenha sido mencionado especificamente se oferece um menu infantil.\n",
      "\n",
      "================================================================================\n",
      "Pergunta: Que itens devo levar para Barcelona em julho com uma criança de 3 anos?\n",
      "\n",
      "\n",
      "\n",
      "\u001b[1m> Entering new AgentExecutor chain...\u001b[0m\n"
     ]
    },
    {
     "name": "stderr",
     "output_type": "stream",
     "text": [
      "c:\\Users\\megap\\anaconda3\\Lib\\site-packages\\pydantic\\main.py:1087: PydanticDeprecatedSince20: The `dict` method is deprecated; use `model_dump` instead. Deprecated in Pydantic V2.0 to be removed in V3.0. See Pydantic V2 Migration Guide at https://errors.pydantic.dev/2.8/migration/\n",
      "  warnings.warn('The `dict` method is deprecated; use `model_dump` instead.', category=PydanticDeprecatedSince20)\n"
     ]
    },
    {
     "name": "stdout",
     "output_type": "stream",
     "text": [
      "\u001b[32;1m\u001b[1;3mPara responder a essa pergunta, preciso considerar o clima de Barcelona em julho e as necessidades de uma criança de 3 anos. Vou buscar informações sobre o clima e dicas de viagem para Barcelona com crianças.\n",
      "\n",
      "Action: DuckDuckGo + Learn\n",
      "Action Input: \"Barcelona weather in July travel tips with a 3-year-old\"\n",
      "\u001b[0m✅ search results adicionados ao vectorstore a partir do DuckDuckGo.\n"
     ]
    },
    {
     "name": "stderr",
     "output_type": "stream",
     "text": [
      "c:\\Users\\megap\\anaconda3\\Lib\\site-packages\\pydantic\\main.py:1087: PydanticDeprecatedSince20: The `dict` method is deprecated; use `model_dump` instead. Deprecated in Pydantic V2.0 to be removed in V3.0. See Pydantic V2 Migration Guide at https://errors.pydantic.dev/2.8/migration/\n",
      "  warnings.warn('The `dict` method is deprecated; use `model_dump` instead.', category=PydanticDeprecatedSince20)\n"
     ]
    },
    {
     "name": "stdout",
     "output_type": "stream",
     "text": [
      "\n",
      "Observation: \u001b[38;5;200m\u001b[1;3m{'textos': ', Barcelona with Babies & Toddlers - Ciao Bambino!, With mild temperatures all year long and 4.5 km of sandy beaches, this family-friendly city is perfect for a getaway with children., Barcelona with a baby – travel tips and advice, 22 Dec 2024 — We spent hours wandering around. It\\'s especially nice in good weather to walk down to Barceloneta and take a stroll along the beach promenade., Barcelona with KIDS: The COMPLETE GUIDE, Summer temperatures can get quite high in Barcelona , making children quite sluggish and grumpy. One way to cool down is to head to Barcelona\\'s biggest water ..., Traveling to Spain with a Baby or Toddler, June to August are the busiest times of year in Spain. It\\'s the most expensive and boiling hot, so I wouldn\\'t advise going with a baby., Spain with a Toddler or Baby: A Complete Guide - Latitude 41, 21 Jul 2024 — The best time to travel to Spain with toddlers or babies is in spring in April, May, or June. It\\'s when flowers are blooming and Spain is its ..., Barcelona with Kids: The Ultimate Guide to 3 Days in ..., Find the best things to do in Barcelona with kids, from Park Guell, to famous sights like Sagrada Familia. Find the best places to stay and eat., Traveling Spain with 3 kids in July - Rick Steves Travel Forum, 16 Oct 2021 — The summer time is the perfect time to visit Northern Spain, which is often referred to as \"Green Spain\". It\\'s quite the contrast compared to the south of the ..., Visiting Spain with kids: a complete guide, 18 Mar 2025 — That said, if you and your kids aren\\'t averse to very high temperatures (82°F to 100°F/28°C to 38°C), and you\\'re looking for a classic beach ...', 'text': 'Barcelona, Espanha, é uma cidade amigável para famílias com bebês e crianças pequenas, com temperaturas amenas durante todo o ano e 4,5 km de praias arenosas. No entanto, as temperaturas de verão podem ser bastante altas, tornando as crianças lentas e irritadas. Uma maneira de se refrescar é visitar o maior parque aquático de Barcelona. A melhor época para viajar para a Espanha com crianças pequenas ou bebês é na primavera, em abril, maio ou junho. Além disso, existem muitas atividades para fazer em Barcelona com crianças, desde visitar o Parque Guell até pontos turísticos famosos como a Sagrada Família.'}\u001b[0m\n",
      "Thought:"
     ]
    },
    {
     "name": "stderr",
     "output_type": "stream",
     "text": [
      "c:\\Users\\megap\\anaconda3\\Lib\\site-packages\\pydantic\\main.py:1087: PydanticDeprecatedSince20: The `dict` method is deprecated; use `model_dump` instead. Deprecated in Pydantic V2.0 to be removed in V3.0. See Pydantic V2 Migration Guide at https://errors.pydantic.dev/2.8/migration/\n",
      "  warnings.warn('The `dict` method is deprecated; use `model_dump` instead.', category=PydanticDeprecatedSince20)\n"
     ]
    },
    {
     "name": "stdout",
     "output_type": "stream",
     "text": [
      "\u001b[32;1m\u001b[1;3mCom base nas informações obtidas, aqui estão algumas recomendações de itens para levar para Barcelona em julho com uma criança de 3 anos:\n",
      "\n",
      "1. **Roupas Leves**: Julho é um mês quente em Barcelona, com temperaturas que podem variar de 28°C a 38°C. Leve roupas leves e confortáveis para você e para a criança.\n",
      "\n",
      "2. **Protetor Solar**: O sol pode ser bastante intenso, então é essencial levar protetor solar adequado para crianças.\n",
      "\n",
      "3. **Chapéu e Óculos de Sol**: Para proteger a criança do sol, um chapéu de aba larga e óculos de sol são recomendados.\n",
      "\n",
      "4. **Roupa de Banho**: Com 4,5 km de praias arenosas, Barcelona é ideal para atividades aquáticas. Leve roupa de banho para aproveitar as praias e parques aquáticos.\n",
      "\n",
      "5. **Calçados Confortáveis**: Para explorar a cidade e visitar atrações como o Parque Guell e a Sagrada Família, calçados confortáveis são essenciais.\n",
      "\n",
      "6. **Garrafa de Água Reutilizável**: Manter-se hidratado é importante, especialmente no calor do verão.\n",
      "\n",
      "7. **Carrinho de Bebê**: Se a criança ainda usa carrinho, pode ser útil para longas caminhadas pela cidade.\n",
      "\n",
      "8. **Lanches e Brinquedos**: Para manter a criança entretida e satisfeita durante passeios e visitas a atrações.\n",
      "\n",
      "Esses itens ajudarão a garantir que sua viagem a Barcelona com uma criança de 3 anos seja confortável e agradável.\u001b[0m\n",
      "Observation: Invalid Format: Missing 'Action:' after 'Thought:\n",
      "Thought:"
     ]
    },
    {
     "name": "stderr",
     "output_type": "stream",
     "text": [
      "c:\\Users\\megap\\anaconda3\\Lib\\site-packages\\pydantic\\main.py:1087: PydanticDeprecatedSince20: The `dict` method is deprecated; use `model_dump` instead. Deprecated in Pydantic V2.0 to be removed in V3.0. See Pydantic V2 Migration Guide at https://errors.pydantic.dev/2.8/migration/\n",
      "  warnings.warn('The `dict` method is deprecated; use `model_dump` instead.', category=PydanticDeprecatedSince20)\n"
     ]
    },
    {
     "name": "stdout",
     "output_type": "stream",
     "text": [
      "\u001b[32;1m\u001b[1;3mCom base nas informações obtidas, aqui estão algumas recomendações de itens para levar para Barcelona em julho com uma criança de 3 anos:\n",
      "\n",
      "1. **Roupas Leves**: Julho é um mês quente em Barcelona, com temperaturas que podem variar de 28°C a 38°C. Leve roupas leves e confortáveis para você e para a criança.\n",
      "\n",
      "2. **Protetor Solar**: O sol pode ser bastante intenso, então é essencial levar protetor solar adequado para crianças.\n",
      "\n",
      "3. **Chapéu e Óculos de Sol**: Para proteger a criança do sol, um chapéu de aba larga e óculos de sol são recomendados.\n",
      "\n",
      "4. **Roupa de Banho**: Com 4,5 km de praias arenosas, Barcelona é ideal para atividades aquáticas. Leve roupa de banho para aproveitar as praias e parques aquáticos.\n",
      "\n",
      "5. **Calçados Confortáveis**: Para explorar a cidade e visitar atrações como o Parque Guell e a Sagrada Família, calçados confortáveis são essenciais.\n",
      "\n",
      "6. **Garrafa de Água Reutilizável**: Manter-se hidratado é importante, especialmente no calor do verão.\n",
      "\n",
      "7. **Carrinho de Bebê**: Se a criança ainda usa carrinho, pode ser útil para longas caminhadas pela cidade.\n",
      "\n",
      "8. **Lanches e Brinquedos**: Para manter a criança entretida e satisfeita durante passeios e visitas a atrações.\n",
      "\n",
      "Esses itens ajudarão a garantir que sua viagem a Barcelona com uma criança de 3 anos seja confortável e agradável.\u001b[0m\n",
      "Observation: Invalid Format: Missing 'Action:' after 'Thought:\n",
      "Thought:"
     ]
    },
    {
     "name": "stderr",
     "output_type": "stream",
     "text": [
      "c:\\Users\\megap\\anaconda3\\Lib\\site-packages\\pydantic\\main.py:1087: PydanticDeprecatedSince20: The `dict` method is deprecated; use `model_dump` instead. Deprecated in Pydantic V2.0 to be removed in V3.0. See Pydantic V2 Migration Guide at https://errors.pydantic.dev/2.8/migration/\n",
      "  warnings.warn('The `dict` method is deprecated; use `model_dump` instead.', category=PydanticDeprecatedSince20)\n"
     ]
    },
    {
     "name": "stdout",
     "output_type": "stream",
     "text": [
      "\u001b[32;1m\u001b[1;3mI'm sorry for the confusion earlier. Here's a concise list of items to bring to Barcelona in July with a 3-year-old:\n",
      "\n",
      "1. **Light Clothing**: July is hot in Barcelona, with temperatures ranging from 28°C to 38°C. Pack light and comfortable clothes for both you and your child.\n",
      "\n",
      "2. **Sunscreen**: The sun can be intense, so bring child-friendly sunscreen.\n",
      "\n",
      "3. **Hat and Sunglasses**: A wide-brimmed hat and sunglasses are recommended to protect your child from the sun.\n",
      "\n",
      "4. **Swimwear**: With 4.5 km of sandy beaches, Barcelona is perfect for water activities. Bring swimwear for beach and water park visits.\n",
      "\n",
      "5. **Comfortable Footwear**: Essential for exploring the city and visiting attractions like Park Guell and Sagrada Familia.\n",
      "\n",
      "6. **Reusable Water Bottle**: Staying hydrated is crucial, especially in the summer heat.\n",
      "\n",
      "7. **Stroller**: If your child still uses a stroller, it can be helpful for long walks around the city.\n",
      "\n",
      "8. **Snacks and Toys**: To keep your child entertained and satisfied during outings and visits to attractions.\n",
      "\n",
      "These items will help ensure a comfortable and enjoyable trip to Barcelona with your 3-year-old.\u001b[0m\n",
      "Observation: Invalid Format: Missing 'Action:' after 'Thought:\n",
      "Thought:\u001b[32;1m\u001b[1;3mI now know the final answer.\n",
      "\n",
      "Final Answer: Para uma viagem a Barcelona em julho com uma criança de 3 anos, é recomendável levar os seguintes itens:\n",
      "\n",
      "1. **Roupas Leves**: As temperaturas em julho podem variar de 28°C a 38°C, então leve roupas leves e confortáveis.\n",
      "\n",
      "2. **Protetor Solar**: Essencial para proteger a pele da criança do sol intenso.\n",
      "\n",
      "3. **Chapéu e Óculos de Sol**: Para proteger a criança do sol, um chapéu de aba larga e óculos de sol são recomendados.\n",
      "\n",
      "4. **Roupa de Banho**: Barcelona tem 4,5 km de praias arenosas, ideais para atividades aquáticas.\n",
      "\n",
      "5. **Calçados Confortáveis**: Importante para explorar a cidade e visitar atrações como o Parque Guell e a Sagrada Família.\n",
      "\n",
      "6. **Garrafa de Água Reutilizável**: Manter-se hidratado é crucial no calor do verão.\n",
      "\n",
      "7. **Carrinho de Bebê**: Útil para longas caminhadas pela cidade, se a criança ainda usa carrinho.\n",
      "\n",
      "8. **Lanches e Brinquedos**: Para manter a criança entretida e satisfeita durante passeios e visitas a atrações.\n",
      "\n",
      "Esses itens ajudarão a garantir que sua viagem a Barcelona com uma criança de 3 anos seja confortável e agradável.\u001b[0m\n",
      "\n",
      "\u001b[1m> Finished chain.\u001b[0m\n",
      "Resposta:\n",
      "Para uma viagem a Barcelona em julho com uma criança de 3 anos, é recomendável levar os seguintes itens:\n",
      "\n",
      "1. **Roupas Leves**: As temperaturas em julho podem variar de 28°C a 38°C, então leve roupas leves e confortáveis.\n",
      "\n",
      "2. **Protetor Solar**: Essencial para proteger a pele da criança do sol intenso.\n",
      "\n",
      "3. **Chapéu e Óculos de Sol**: Para proteger a criança do sol, um chapéu de aba larga e óculos de sol são recomendados.\n",
      "\n",
      "4. **Roupa de Banho**: Barcelona tem 4,5 km de praias arenosas, ideais para atividades aquáticas.\n",
      "\n",
      "5. **Calçados Confortáveis**: Importante para explorar a cidade e visitar atrações como o Parque Guell e a Sagrada Família.\n",
      "\n",
      "6. **Garrafa de Água Reutilizável**: Manter-se hidratado é crucial no calor do verão.\n",
      "\n",
      "7. **Carrinho de Bebê**: Útil para longas caminhadas pela cidade, se a criança ainda usa carrinho.\n",
      "\n",
      "8. **Lanches e Brinquedos**: Para manter a criança entretida e satisfeita durante passeios e visitas a atrações.\n",
      "\n",
      "Esses itens ajudarão a garantir que sua viagem a Barcelona com uma criança de 3 anos seja confortável e agradável.\n",
      "\n"
     ]
    },
    {
     "name": "stderr",
     "output_type": "stream",
     "text": [
      "c:\\Users\\megap\\anaconda3\\Lib\\site-packages\\pydantic\\main.py:1087: PydanticDeprecatedSince20: The `dict` method is deprecated; use `model_dump` instead. Deprecated in Pydantic V2.0 to be removed in V3.0. See Pydantic V2 Migration Guide at https://errors.pydantic.dev/2.8/migration/\n",
      "  warnings.warn('The `dict` method is deprecated; use `model_dump` instead.', category=PydanticDeprecatedSince20)\n"
     ]
    }
   ],
   "source": [
    "perguntas = [\n",
    "    \"Quais são as melhores atividades gratuitas em Barcelona para crianças de 5 anos no inverno?\",\n",
    "    \"Sugere restaurantes em Barcelona que tenham menu infantil e espaço para brincar.\",\n",
    "    \"Que itens devo levar para Barcelona em julho com uma criança de 3 anos?\"\n",
    "]\n",
    "\n",
    "for pergunta in perguntas:\n",
    "    print(\"=\"*80)\n",
    "    print(f\"Pergunta: {pergunta}\\n\")\n",
    "    resposta = agent.invoke({\"input\": pergunta})[\"output\"]  \n",
    "    print(f\"Resposta:\\n{resposta}\\n\")"
   ]
  },
  {
   "cell_type": "code",
   "execution_count": 14,
   "id": "d9b6eae0",
   "metadata": {},
   "outputs": [
    {
     "name": "stdout",
     "output_type": "stream",
     "text": [
      "Starting evaluation of experiment: %s travel-assistant-eval-ebaf9597\n"
     ]
    },
    {
     "name": "stderr",
     "output_type": "stream",
     "text": [
      "c:\\Users\\megap\\anaconda3\\Lib\\site-packages\\langsmith\\evaluation\\_runner.py:421: LangSmithBetaWarning: 'upload_results' parameter is in beta.\n",
      "  _warn_once(\"'upload_results' parameter is in beta.\")\n"
     ]
    },
    {
     "data": {
      "application/vnd.jupyter.widget-view+json": {
       "model_id": "d796dc538cb14206912e17fe8c7471eb",
       "version_major": 2,
       "version_minor": 0
      },
      "text/plain": [
       "0it [00:00, ?it/s]"
      ]
     },
     "metadata": {},
     "output_type": "display_data"
    },
    {
     "name": "stderr",
     "output_type": "stream",
     "text": [
      "Error running target function: 'dict' object has no attribute 'inputs'\n",
      "Traceback (most recent call last):\n",
      "  File \"c:\\Users\\megap\\anaconda3\\Lib\\site-packages\\langsmith\\evaluation\\_runner.py\", line 1907, in _forward\n",
      "    fn(*args, langsmith_extra=langsmith_extra)\n",
      "  File \"c:\\Users\\megap\\anaconda3\\Lib\\site-packages\\langsmith\\run_helpers.py\", line 692, in wrapper\n",
      "    function_result = run_container[\"context\"].run(\n",
      "                      ^^^^^^^^^^^^^^^^^^^^^^^^^^^^^\n",
      "  File \"C:\\Users\\megap\\AppData\\Local\\Temp\\ipykernel_16920\\466836926.py\", line 18, in run_fn\n",
      "    question = ex.inputs[\"question\"]\n",
      "               ^^^^^^^^^\n",
      "AttributeError: 'dict' object has no attribute 'inputs'\n",
      "Error running evaluator <DynamicRunEvaluator judge_fn> on run 53c78167-2b08-4129-b354-099ce90a8c57: ValueError('Expected a dict, str, bool, int, float, list, EvaluationResult, or EvaluationResults. Got <__main__.judge_fn.<locals>.EvalResult object at 0x0000026003E79CD0>')\n",
      "Traceback (most recent call last):\n",
      "  File \"c:\\Users\\megap\\anaconda3\\Lib\\site-packages\\langsmith\\evaluation\\_runner.py\", line 1603, in _run_evaluators\n",
      "    evaluator_response = evaluator.evaluate_run(  # type: ignore[call-arg]\n",
      "                         ^^^^^^^^^^^^^^^^^^^^^^^^^^^^^^^^^^^^^^^^^^^^^^^^^\n",
      "  File \"c:\\Users\\megap\\anaconda3\\Lib\\site-packages\\langsmith\\evaluation\\evaluator.py\", line 356, in evaluate_run\n",
      "    return self._format_result(result, evaluator_run_id)\n",
      "           ^^^^^^^^^^^^^^^^^^^^^^^^^^^^^^^^^^^^^^^^^^^^^\n",
      "  File \"c:\\Users\\megap\\anaconda3\\Lib\\site-packages\\langsmith\\evaluation\\evaluator.py\", line 308, in _format_result\n",
      "    result = _format_evaluator_result(result)\n",
      "             ^^^^^^^^^^^^^^^^^^^^^^^^^^^^^^^^\n",
      "  File \"c:\\Users\\megap\\anaconda3\\Lib\\site-packages\\langsmith\\evaluation\\evaluator.py\", line 939, in _format_evaluator_result\n",
      "    raise ValueError(\n",
      "ValueError: Expected a dict, str, bool, int, float, list, EvaluationResult, or EvaluationResults. Got <__main__.judge_fn.<locals>.EvalResult object at 0x0000026003E79CD0>\n",
      "Error running target function: 'dict' object has no attribute 'inputs'\n",
      "Traceback (most recent call last):\n",
      "  File \"c:\\Users\\megap\\anaconda3\\Lib\\site-packages\\langsmith\\evaluation\\_runner.py\", line 1907, in _forward\n",
      "    fn(*args, langsmith_extra=langsmith_extra)\n",
      "  File \"c:\\Users\\megap\\anaconda3\\Lib\\site-packages\\langsmith\\run_helpers.py\", line 692, in wrapper\n",
      "    function_result = run_container[\"context\"].run(\n",
      "                      ^^^^^^^^^^^^^^^^^^^^^^^^^^^^^\n",
      "  File \"C:\\Users\\megap\\AppData\\Local\\Temp\\ipykernel_16920\\466836926.py\", line 18, in run_fn\n",
      "    question = ex.inputs[\"question\"]\n",
      "               ^^^^^^^^^\n",
      "AttributeError: 'dict' object has no attribute 'inputs'\n",
      "Error running evaluator <DynamicRunEvaluator judge_fn> on run 8aa40a30-9e08-46ea-b803-3b430151fd27: ValueError('Expected a dict, str, bool, int, float, list, EvaluationResult, or EvaluationResults. Got <__main__.judge_fn.<locals>.EvalResult object at 0x0000026003E6CF20>')\n",
      "Traceback (most recent call last):\n",
      "  File \"c:\\Users\\megap\\anaconda3\\Lib\\site-packages\\langsmith\\evaluation\\_runner.py\", line 1603, in _run_evaluators\n",
      "    evaluator_response = evaluator.evaluate_run(  # type: ignore[call-arg]\n",
      "                         ^^^^^^^^^^^^^^^^^^^^^^^^^^^^^^^^^^^^^^^^^^^^^^^^^\n",
      "  File \"c:\\Users\\megap\\anaconda3\\Lib\\site-packages\\langsmith\\evaluation\\evaluator.py\", line 356, in evaluate_run\n",
      "    return self._format_result(result, evaluator_run_id)\n",
      "           ^^^^^^^^^^^^^^^^^^^^^^^^^^^^^^^^^^^^^^^^^^^^^\n",
      "  File \"c:\\Users\\megap\\anaconda3\\Lib\\site-packages\\langsmith\\evaluation\\evaluator.py\", line 308, in _format_result\n",
      "    result = _format_evaluator_result(result)\n",
      "             ^^^^^^^^^^^^^^^^^^^^^^^^^^^^^^^^\n",
      "  File \"c:\\Users\\megap\\anaconda3\\Lib\\site-packages\\langsmith\\evaluation\\evaluator.py\", line 939, in _format_evaluator_result\n",
      "    raise ValueError(\n",
      "ValueError: Expected a dict, str, bool, int, float, list, EvaluationResult, or EvaluationResults. Got <__main__.judge_fn.<locals>.EvalResult object at 0x0000026003E6CF20>\n",
      "Error running target function: 'dict' object has no attribute 'inputs'\n",
      "Traceback (most recent call last):\n",
      "  File \"c:\\Users\\megap\\anaconda3\\Lib\\site-packages\\langsmith\\evaluation\\_runner.py\", line 1907, in _forward\n",
      "    fn(*args, langsmith_extra=langsmith_extra)\n",
      "  File \"c:\\Users\\megap\\anaconda3\\Lib\\site-packages\\langsmith\\run_helpers.py\", line 692, in wrapper\n",
      "    function_result = run_container[\"context\"].run(\n",
      "                      ^^^^^^^^^^^^^^^^^^^^^^^^^^^^^\n",
      "  File \"C:\\Users\\megap\\AppData\\Local\\Temp\\ipykernel_16920\\466836926.py\", line 18, in run_fn\n",
      "    question = ex.inputs[\"question\"]\n",
      "               ^^^^^^^^^\n",
      "AttributeError: 'dict' object has no attribute 'inputs'\n",
      "Error running evaluator <DynamicRunEvaluator judge_fn> on run cc415244-c6a9-48e6-b207-eb23a2144a83: ValueError('Expected a dict, str, bool, int, float, list, EvaluationResult, or EvaluationResults. Got <__main__.judge_fn.<locals>.EvalResult object at 0x0000026003E79D60>')\n",
      "Traceback (most recent call last):\n",
      "  File \"c:\\Users\\megap\\anaconda3\\Lib\\site-packages\\langsmith\\evaluation\\_runner.py\", line 1603, in _run_evaluators\n",
      "    evaluator_response = evaluator.evaluate_run(  # type: ignore[call-arg]\n",
      "                         ^^^^^^^^^^^^^^^^^^^^^^^^^^^^^^^^^^^^^^^^^^^^^^^^^\n",
      "  File \"c:\\Users\\megap\\anaconda3\\Lib\\site-packages\\langsmith\\evaluation\\evaluator.py\", line 356, in evaluate_run\n",
      "    return self._format_result(result, evaluator_run_id)\n",
      "           ^^^^^^^^^^^^^^^^^^^^^^^^^^^^^^^^^^^^^^^^^^^^^\n",
      "  File \"c:\\Users\\megap\\anaconda3\\Lib\\site-packages\\langsmith\\evaluation\\evaluator.py\", line 308, in _format_result\n",
      "    result = _format_evaluator_result(result)\n",
      "             ^^^^^^^^^^^^^^^^^^^^^^^^^^^^^^^^\n",
      "  File \"c:\\Users\\megap\\anaconda3\\Lib\\site-packages\\langsmith\\evaluation\\evaluator.py\", line 939, in _format_evaluator_result\n",
      "    raise ValueError(\n",
      "ValueError: Expected a dict, str, bool, int, float, list, EvaluationResult, or EvaluationResults. Got <__main__.judge_fn.<locals>.EvalResult object at 0x0000026003E79D60>\n"
     ]
    },
    {
     "data": {
      "application/vnd.microsoft.datawrangler.viewer.v0+json": {
       "columns": [
        {
         "name": "index",
         "rawType": "int64",
         "type": "integer"
        },
        {
         "name": "question",
         "rawType": "object",
         "type": "string"
        },
        {
         "name": "answer",
         "rawType": "object",
         "type": "unknown"
        },
        {
         "name": "score",
         "rawType": "object",
         "type": "unknown"
        },
        {
         "name": "reason",
         "rawType": "object",
         "type": "string"
        },
        {
         "name": "example_id",
         "rawType": "object",
         "type": "unknown"
        }
       ],
       "ref": "d8fe9afd-6825-4812-abcc-5de97c2a49f6",
       "rows": [
        [
         "0",
         "Quais são as melhores atividades gratuitas em Barcelona para crianças de 5 anos no inverno?",
         null,
         null,
         "ValueError('Expected a dict, str, bool, int, float, list, EvaluationResult, or EvaluationResults. Got <__main__.judge_fn.<locals>.EvalResult object at 0x0000026003E79CD0>')",
         "1b8d531f-e636-430a-86ec-1bc60557f21a"
        ],
        [
         "1",
         "Sugere restaurantes em Barcelona que tenham menu infantil e espaço para brincar.",
         null,
         null,
         "ValueError('Expected a dict, str, bool, int, float, list, EvaluationResult, or EvaluationResults. Got <__main__.judge_fn.<locals>.EvalResult object at 0x0000026003E6CF20>')",
         "50f086ab-80ee-4b15-b2df-1a244f2f5e5e"
        ],
        [
         "2",
         "Que itens devo levar para Barcelona em julho com uma criança de 3 anos?",
         null,
         null,
         "ValueError('Expected a dict, str, bool, int, float, list, EvaluationResult, or EvaluationResults. Got <__main__.judge_fn.<locals>.EvalResult object at 0x0000026003E79D60>')",
         "a02658cb-8edf-4a16-b34a-f9a0671a84c2"
        ]
       ],
       "shape": {
        "columns": 5,
        "rows": 3
       }
      },
      "text/html": [
       "<div>\n",
       "<style scoped>\n",
       "    .dataframe tbody tr th:only-of-type {\n",
       "        vertical-align: middle;\n",
       "    }\n",
       "\n",
       "    .dataframe tbody tr th {\n",
       "        vertical-align: top;\n",
       "    }\n",
       "\n",
       "    .dataframe thead th {\n",
       "        text-align: right;\n",
       "    }\n",
       "</style>\n",
       "<table border=\"1\" class=\"dataframe\">\n",
       "  <thead>\n",
       "    <tr style=\"text-align: right;\">\n",
       "      <th></th>\n",
       "      <th>question</th>\n",
       "      <th>answer</th>\n",
       "      <th>score</th>\n",
       "      <th>reason</th>\n",
       "      <th>example_id</th>\n",
       "    </tr>\n",
       "  </thead>\n",
       "  <tbody>\n",
       "    <tr>\n",
       "      <th>0</th>\n",
       "      <td>Quais são as melhores atividades gratuitas em ...</td>\n",
       "      <td>None</td>\n",
       "      <td>None</td>\n",
       "      <td>ValueError('Expected a dict, str, bool, int, f...</td>\n",
       "      <td>1b8d531f-e636-430a-86ec-1bc60557f21a</td>\n",
       "    </tr>\n",
       "    <tr>\n",
       "      <th>1</th>\n",
       "      <td>Sugere restaurantes em Barcelona que tenham me...</td>\n",
       "      <td>None</td>\n",
       "      <td>None</td>\n",
       "      <td>ValueError('Expected a dict, str, bool, int, f...</td>\n",
       "      <td>50f086ab-80ee-4b15-b2df-1a244f2f5e5e</td>\n",
       "    </tr>\n",
       "    <tr>\n",
       "      <th>2</th>\n",
       "      <td>Que itens devo levar para Barcelona em julho c...</td>\n",
       "      <td>None</td>\n",
       "      <td>None</td>\n",
       "      <td>ValueError('Expected a dict, str, bool, int, f...</td>\n",
       "      <td>a02658cb-8edf-4a16-b34a-f9a0671a84c2</td>\n",
       "    </tr>\n",
       "  </tbody>\n",
       "</table>\n",
       "</div>"
      ],
      "text/plain": [
       "                                            question answer score  \\\n",
       "0  Quais são as melhores atividades gratuitas em ...   None  None   \n",
       "1  Sugere restaurantes em Barcelona que tenham me...   None  None   \n",
       "2  Que itens devo levar para Barcelona em julho c...   None  None   \n",
       "\n",
       "                                              reason  \\\n",
       "0  ValueError('Expected a dict, str, bool, int, f...   \n",
       "1  ValueError('Expected a dict, str, bool, int, f...   \n",
       "2  ValueError('Expected a dict, str, bool, int, f...   \n",
       "\n",
       "                             example_id  \n",
       "0  1b8d531f-e636-430a-86ec-1bc60557f21a  \n",
       "1  50f086ab-80ee-4b15-b2df-1a244f2f5e5e  \n",
       "2  a02658cb-8edf-4a16-b34a-f9a0671a84c2  "
      ]
     },
     "execution_count": 14,
     "metadata": {},
     "output_type": "execute_result"
    }
   ],
   "source": [
    "import uuid\n",
    "import pandas as pd\n",
    "from langsmith.schemas import Example\n",
    "from langsmith.evaluation import evaluate\n",
    "\n",
    "# Construir exemplos\n",
    "examples = [\n",
    "    Example(\n",
    "        id=str(uuid.uuid4()),\n",
    "        inputs={\"question\": pergunta_text},\n",
    "        outputs=None,\n",
    "    )\n",
    "    for pergunta_text, _, _, _ in perguntas\n",
    "]\n",
    "\n",
    "# Função alvo (usar atributo .inputs!)\n",
    "def run_fn(ex):\n",
    "    question = ex.inputs[\"question\"]\n",
    "    idade = 5 if \"5 anos\" in question else 3\n",
    "    epoca = \"julho\" if \"julho\" in question else \"inverno\"\n",
    "    categoria = \"atividades\" if \"atividades\" in question else \"restaurantes\"\n",
    "    return pergunta_barcelona_final(\n",
    "        idade=idade,\n",
    "        epoca=epoca,\n",
    "        categoria=categoria,\n",
    "        retriever=retriever,\n",
    "        multiquery_retriever=multiquery_retriever\n",
    "    )\n",
    "\n",
    "# Exemplo de função de avaliação (judge_fn)\n",
    "def judge_fn(run_output, example):\n",
    "    # Avaliação simples: sempre retorna score neutro\n",
    "    class EvalResult:\n",
    "        def __init__(self):\n",
    "            self.score = 0.5\n",
    "            self.comment = \"Avaliação placeholder.\"\n",
    "    return EvalResult()\n",
    "\n",
    "# Avaliação\n",
    "evaluation_results = evaluate(\n",
    "    run_fn,\n",
    "    data=examples,\n",
    "    evaluators=[judge_fn],\n",
    "    experiment_prefix=\"travel-assistant-eval\",\n",
    "    upload_results=False\n",
    ")\n",
    "\n",
    "# Construir DataFrame\n",
    "results_list = []\n",
    "for item in evaluation_results._results:\n",
    "    example = item[\"example\"]         # aqui é dict, não objeto\n",
    "    run_tree = item[\"run\"]\n",
    "    eval_res = item[\"evaluation_results\"][\"results\"][0] if item[\"evaluation_results\"][\"results\"] else None\n",
    "\n",
    "    score = getattr(eval_res, \"score\", None) if eval_res else None\n",
    "    reason = getattr(eval_res, \"comment\", None) if eval_res else None\n",
    "\n",
    "    results_list.append({\n",
    "        \"question\": example.inputs[\"question\"],\n",
    "        \"answer\": run_tree.outputs.get(\"output\") if hasattr(run_tree, \"outputs\") else run_tree.outputs,\n",
    "        \"score\": score,\n",
    "        \"reason\": reason,\n",
    "        \"example_id\": example.id\n",
    "    })\n",
    "\n",
    "df_results = pd.DataFrame(results_list)\n",
    "df_results"
   ]
  }
 ],
 "metadata": {
  "kernelspec": {
   "display_name": "base",
   "language": "python",
   "name": "python3"
  },
  "language_info": {
   "codemirror_mode": {
    "name": "ipython",
    "version": 3
   },
   "file_extension": ".py",
   "mimetype": "text/x-python",
   "name": "python",
   "nbconvert_exporter": "python",
   "pygments_lexer": "ipython3",
   "version": "3.12.7"
  }
 },
 "nbformat": 4,
 "nbformat_minor": 5
}
